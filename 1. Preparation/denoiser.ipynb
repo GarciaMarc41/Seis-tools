{
 "cells": [
  {
   "cell_type": "code",
   "execution_count": null,
   "id": "6005e6d8-eeb5-4c6c-944c-27f728d01253",
   "metadata": {},
   "outputs": [],
   "source": [
    "import os\n",
    "from obspy import read\n",
    "import seisbench.models as sbm\n",
    "\n",
    "# Load the model\n",
    "model = sbm.DeepDenoiser.from_pretrained(\"original\")\n",
    "\n",
    "# Define the source and target directories\n",
    "source_directory = '/Users/marcgarcia/Research/Picking/PhaseNet/Data/Raw'\n",
    "target_directory = '/Users/marcgarcia/Research/Picking/PhaseNet/Data/Denoised/'\n",
    "\n",
    "# Ensure the target directory exists\n",
    "os.makedirs(target_directory, exist_ok=True)\n",
    "\n",
    "# Get all miniseed files\n",
    "mseed_files = [f for f in os.listdir(source_directory) if f.endswith('.mseed')]\n",
    "\n",
    "# Sort files by their names\n",
    "mseed_files.sort()\n",
    "\n",
    "# Loop through each sorted file\n",
    "for filename in mseed_files:\n",
    "    file_path = os.path.join(source_directory, filename)\n",
    "    \n",
    "    # Read the stream\n",
    "    stream = read(file_path)\n",
    "\n",
    "    # Apply the model to denoise\n",
    "    denoised = model.annotate(stream)\n",
    "\n",
    "    # Edit Traces\n",
    "    for trace in denoised:\n",
    "        if 'DeepDenoiser_' in trace.stats.channel:\n",
    "            trace.stats.channel = trace.stats.channel.replace('DeepDenoiser_', '')\n",
    "    \n",
    "    target_file_path = os.path.join(target_directory, filename)\n",
    "    \n",
    "    # Write denoised signals to the target directory\n",
    "    denoised.write(target_file_path, format='MSEED')\n",
    "\n",
    "    print(f'Processed and saved {filename}')\n"
   ]
  },
  {
   "cell_type": "code",
   "execution_count": null,
   "id": "c8320231-9f04-4f0f-bc8f-2a08e6907525",
   "metadata": {
    "tags": []
   },
   "outputs": [],
   "source": [
    "# Read stream\n",
    "stream = read('/Users/marcgarcia/Research/Picking/PhaseNet/Data/Denoised/2017-09-06T00-00-00.mseed')\n",
    "print(stream.__str__(extended=True))"
   ]
  },
  {
   "cell_type": "code",
   "execution_count": null,
   "id": "982f0d25-89d1-4a75-ad6b-d64072b1d1e2",
   "metadata": {
    "tags": []
   },
   "outputs": [],
   "source": [
    "from obspy import read\n",
    "\n",
    "stream = read(\"/Users/marcgarcia/Research/Picking/PhaseNet/Data/Denoised/2017-09-06T00-00-00.mseed\")\n",
    "for trace in stream:\n",
    "    print(trace.stats)\n"
   ]
  },
  {
   "cell_type": "code",
   "execution_count": null,
   "id": "8929a760-0778-4738-ae5e-53a80d6b9ea3",
   "metadata": {
    "tags": []
   },
   "outputs": [],
   "source": [
    "from obspy import read\n",
    "\n",
    "stream = read(\"/Users/marcgarcia/Research/Picking/PhaseNet/Data/Raw/2017-09-06T00-00-00.mseed\")\n",
    "print(stream)\n",
    "for trace in stream:\n",
    "    print(trace.stats)"
   ]
  },
  {
   "cell_type": "code",
   "execution_count": null,
   "id": "d904eee3-080b-47e5-a6ad-7fd881f2a462",
   "metadata": {},
   "outputs": [],
   "source": []
  }
 ],
 "metadata": {
  "kernelspec": {
   "display_name": "Python 3 (ipykernel)",
   "language": "python",
   "name": "python3"
  },
  "language_info": {
   "codemirror_mode": {
    "name": "ipython",
    "version": 3
   },
   "file_extension": ".py",
   "mimetype": "text/x-python",
   "name": "python",
   "nbconvert_exporter": "python",
   "pygments_lexer": "ipython3",
   "version": "3.11.4"
  }
 },
 "nbformat": 4,
 "nbformat_minor": 5
}
