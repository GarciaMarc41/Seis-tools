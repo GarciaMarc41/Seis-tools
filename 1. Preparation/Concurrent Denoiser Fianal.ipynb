{
 "cells": [
  {
   "cell_type": "code",
   "execution_count": 1,
   "id": "c62c91d9",
   "metadata": {},
   "outputs": [],
   "source": [
    "from importlib import reload\n",
    "import process_file_module\n",
    "reload(process_file_module)\n",
    "from process_file_module import process_file"
   ]
  },
  {
   "cell_type": "code",
   "execution_count": null,
   "id": "cfee5355",
   "metadata": {},
   "outputs": [],
   "source": [
    "import os\n",
    "from multiprocessing import Pool, cpu_count\n",
    "from functools import partial\n",
    "import seisbench.models as sbm\n",
    "from process_file_module import process_file  # Make sure this is correctly imported from your separate module\n",
    "\n",
    "# Load the model\n",
    "model = sbm.DeepDenoiser.from_pretrained(\"original\")\n",
    "\n",
    "# Define the source and target directories\n",
    "source_directory = '/Volumes/Marco/concurrent'\n",
    "target_directory = '/Volumes/Marco/concurrent/denoised'\n",
    "\n",
    "if __name__ == '__main__':\n",
    "    # Ensure the target directory exists\n",
    "    os.makedirs(target_directory, exist_ok=True)\n",
    "\n",
    "    # Get all miniseed files\n",
    "    mseed_files = [f for f in os.listdir(source_directory) if f.endswith('.mseed')]\n",
    "\n",
    "    # Sort files by their names\n",
    "    mseed_files.sort()\n",
    "\n",
    "    # Number of concurrent processes\n",
    "    num_processes = cpu_count()\n",
    "\n",
    "    # Create a partial function with fixed arguments\n",
    "    partial_process_file = partial(process_file, source_directory=source_directory, target_directory=target_directory, model=model)\n",
    "\n",
    "    with Pool(num_processes) as pool:\n",
    "        pool.map(partial_process_file, mseed_files)\n"
   ]
  },
  {
   "cell_type": "code",
   "execution_count": null,
   "id": "f7405c16",
   "metadata": {},
   "outputs": [],
   "source": []
  }
 ],
 "metadata": {
  "kernelspec": {
   "display_name": "Python 3 (ipykernel)",
   "language": "python",
   "name": "python3"
  },
  "language_info": {
   "codemirror_mode": {
    "name": "ipython",
    "version": 3
   },
   "file_extension": ".py",
   "mimetype": "text/x-python",
   "name": "python",
   "nbconvert_exporter": "python",
   "pygments_lexer": "ipython3",
   "version": "3.9.16"
  }
 },
 "nbformat": 4,
 "nbformat_minor": 5
}
